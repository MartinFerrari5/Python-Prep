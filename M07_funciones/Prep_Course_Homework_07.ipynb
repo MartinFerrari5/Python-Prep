{
 "cells": [
  {
   "attachments": {},
   "cell_type": "markdown",
   "metadata": {},
   "source": [
    "## Funciones"
   ]
  },
  {
   "attachments": {},
   "cell_type": "markdown",
   "metadata": {},
   "source": [
    "1) Crear una función que reciba un número como parámetro y devuelva True si es primo y False si no lo es"
   ]
  },
  {
   "cell_type": "code",
   "execution_count": 4,
   "metadata": {},
   "outputs": [
    {
     "data": {
      "text/plain": [
       "False"
      ]
     },
     "execution_count": 4,
     "metadata": {},
     "output_type": "execute_result"
    }
   ],
   "source": [
    "\n",
    "def prim (val1):\n",
    "    primo=True\n",
    "    for i in range(2,val1):\n",
    "        if val1%i==0:\n",
    "            primo=False\n",
    "            return primo\n",
    "    return primo\n",
    "    \n",
    "prim(25)\n"
   ]
  },
  {
   "attachments": {},
   "cell_type": "markdown",
   "metadata": {},
   "source": [
    "2) Utilizando la función del punto 1, realizar otra función que reciba de parámetro una lista de números y devuelva sólo aquellos que son primos en otra lista"
   ]
  },
  {
   "cell_type": "code",
   "execution_count": 6,
   "metadata": {},
   "outputs": [
    {
     "data": {
      "text/plain": [
       "[3, 7, 13, 31]"
      ]
     },
     "execution_count": 6,
     "metadata": {},
     "output_type": "execute_result"
    }
   ],
   "source": [
    "num_primos=[3,6,7,13,56,31]\n",
    "def calc_primos(valores):\n",
    "    lista_primos=[]\n",
    "    for i in valores:\n",
    "        res=prim(i)\n",
    "        if res:\n",
    "            lista_primos.append(i)\n",
    "    return lista_primos\n",
    "calc_primos(num_primos)\n"
   ]
  },
  {
   "attachments": {},
   "cell_type": "markdown",
   "metadata": {},
   "source": [
    "3) Crear una función que al recibir una lista de números, devuelva el que más se repite y cuántas veces lo hace. Si hay más de un \"más repetido\", que devuelva cualquiera"
   ]
  },
  {
   "cell_type": "code",
   "execution_count": 46,
   "metadata": {},
   "outputs": [
    {
     "name": "stdout",
     "output_type": "stream",
     "text": [
      "1 i 0 b\n",
      "3 i 1 b\n",
      "2 i 3 b\n",
      "3 i 3 b\n",
      "1 i 3 b\n",
      "1 i 3 b\n"
     ]
    },
    {
     "data": {
      "text/plain": [
       "('Los numeros que más se repiten son', 3, 'y', 5, 'un total de', 3, 'veces')"
      ]
     },
     "execution_count": 46,
     "metadata": {},
     "output_type": "execute_result"
    }
   ],
   "source": [
    "num=[1,3,2,3,3,5,5,6,5,7,2]\n",
    "lista_num=[]\n",
    "lista_repetidos=[]\n",
    "\n",
    "def contar (valores):\n",
    "    for i in valores:\n",
    "        if i in lista_num:\n",
    "            indice = lista_num.index(i)\n",
    "            lista_repetidos[indice]+=1\n",
    "        else:\n",
    "            lista_num.append(i)\n",
    "            lista_repetidos.append(1)\n",
    "    res = 0\n",
    "    b=0\n",
    "    for i in lista_repetidos:\n",
    "        print(i,\"i\", b,\"b\")\n",
    "        if(i>b):\n",
    "            indice = lista_repetidos.index(i)\n",
    "            numero= lista_num[indice]\n",
    "           \n",
    "            res = \"El numero que más se repite es\",numero,\"un total de\",i,\"veces\"\n",
    "            b=i\n",
    "        elif(i==b):\n",
    "            indice = lista_repetidos.index(i)\n",
    "            indice2 = lista_repetidos.index(i,indice+1)\n",
    "            numero= lista_num[indice]\n",
    "            numero2= lista_num[indice2]\n",
    "            res=\"Los numeros que más se repiten son\", numero, \"y\",numero2,\"un total de\",i,\"veces\"\n",
    "            b=i\n",
    "        \n",
    "    return res\n",
    "contar(num)\n",
    "\n",
    "\n",
    "    \n",
    "        \n"
   ]
  },
  {
   "attachments": {},
   "cell_type": "markdown",
   "metadata": {},
   "source": [
    "4) Crear una función que convierta entre grados Celsius, Farenheit y Kelvin<br>\n",
    "Fórmula 1\t: (°C × 9/5) + 32 = °F<br>\n",
    "Fórmula 2\t: °C + 273.15 = °K<br>\n",
    "Debe recibir 3 parámetros: el valor, la medida de orígen y la medida de destino\n"
   ]
  },
  {
   "cell_type": "code",
   "execution_count": 4,
   "metadata": {},
   "outputs": [
    {
     "data": {
      "text/plain": [
       "273.15"
      ]
     },
     "execution_count": 4,
     "metadata": {},
     "output_type": "execute_result"
    }
   ],
   "source": [
    "res=0\n",
    "def temp(valor, input, output):\n",
    "    if(input==\"c\"):\n",
    "        if(output==\"f\"):\n",
    "            res= valor * (9/5) + 32\n",
    "        else: \n",
    "            res= valor + 273.15\n",
    "    elif(input==\"f\"):\n",
    "        if(output==\"c\"):\n",
    "            res= (valor-32)/(9/5) \n",
    "        else: \n",
    "            res = (valor-32)/(9/5) + 273.15\n",
    "    else:\n",
    "        if(input==\"c\"):\n",
    "            res = valor - 273.15\n",
    "        else:\n",
    "            res= (valor - 273.15)  * (9/5) + 32\n",
    "    return res\n",
    "temp(0,\"c\",\"k\")"
   ]
  },
  {
   "attachments": {},
   "cell_type": "markdown",
   "metadata": {},
   "source": [
    "5) Iterando una lista con los tres valores posibles de temperatura que recibe la función del punto 5, hacer un print para cada combinación de los mismos:"
   ]
  },
  {
   "cell_type": "code",
   "execution_count": 5,
   "metadata": {},
   "outputs": [
    {
     "name": "stdout",
     "output_type": "stream",
     "text": [
      "2 c son 275.15 k\n",
      "45 c son 318.15 k\n",
      "67 c son 340.15 k\n",
      "8 c son 281.15 k\n",
      "23 c son 296.15 k\n",
      "21 c son 294.15 k\n"
     ]
    }
   ],
   "source": [
    "lista_temp = [2,45,67,8,23,21]\n",
    "lista_res = []\n",
    "input =\"c\"\n",
    "output=\"k\"\n",
    "for i in lista_temp:\n",
    "    res=temp(i,input,output)\n",
    "    lista_res.append(res)\n",
    "    print(f\"{i}{input} son {res}{output}\")"
   ]
  },
  {
   "attachments": {},
   "cell_type": "markdown",
   "metadata": {},
   "source": [
    "6) Armar una función que devuelva el factorial de un número. Tener en cuenta que el usuario puede equivocarse y enviar de parámetro un número no entero o negativo"
   ]
  },
  {
   "cell_type": "code",
   "execution_count": 25,
   "metadata": {},
   "outputs": [
    {
     "data": {
      "text/plain": [
       "120"
      ]
     },
     "execution_count": 25,
     "metadata": {},
     "output_type": "execute_result"
    }
   ],
   "source": [
    "\n",
    "def fact (val):\n",
    "    if(type(val)!=int or val<0):\n",
    "         return None\n",
    "    if(val>1):\n",
    "\n",
    "        val=val * fact(val-1)\n",
    "    return val\n",
    "    \n",
    "fact(5)"
   ]
  }
 ],
 "metadata": {
  "interpreter": {
   "hash": "c85384e4cb51c8b72350f3a8712cc8351fdc3955e32a27f9b60c6242ab125f01"
  },
  "kernelspec": {
   "display_name": "Python 3 (ipykernel)",
   "language": "python",
   "name": "python3"
  },
  "language_info": {
   "codemirror_mode": {
    "name": "ipython",
    "version": 3
   },
   "file_extension": ".py",
   "mimetype": "text/x-python",
   "name": "python",
   "nbconvert_exporter": "python",
   "pygments_lexer": "ipython3",
   "version": "3.10.4"
  }
 },
 "nbformat": 4,
 "nbformat_minor": 4
}
