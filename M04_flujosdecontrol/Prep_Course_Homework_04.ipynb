{
 "cells": [
  {
   "attachments": {},
   "cell_type": "markdown",
   "metadata": {},
   "source": [
    "## Flujos de Control"
   ]
  },
  {
   "attachments": {},
   "cell_type": "markdown",
   "metadata": {},
   "source": [
    "1) Crear una variable que contenga un elemento del conjunto de números enteros y luego imprimir por pantalla si es mayor o menor a cero"
   ]
  },
  {
   "cell_type": "code",
   "execution_count": 4,
   "metadata": {},
   "outputs": [
    {
     "name": "stdout",
     "output_type": "stream",
     "text": [
      "Igual a 0\n"
     ]
    }
   ],
   "source": [
    "num=0\n",
    "if(num>0): print(\"Mayor a 0\")\n",
    "elif(num==0): print (\"Igual a 0\")\n",
    "else: print(\"Menor\")"
   ]
  },
  {
   "attachments": {},
   "cell_type": "markdown",
   "metadata": {},
   "source": [
    "2) Crear dos variables y un condicional que informe si son del mismo tipo de dato"
   ]
  },
  {
   "cell_type": "code",
   "execution_count": 6,
   "metadata": {},
   "outputs": [
    {
     "name": "stdout",
     "output_type": "stream",
     "text": [
      "Iguales\n"
     ]
    }
   ],
   "source": [
    "var1=\"5\"\n",
    "var2=\"Letra\"\n",
    "if type(var1)==type(var2):\n",
    "    print(\"Iguales\")\n",
    "else: \n",
    "    print(\"Distintos\")"
   ]
  },
  {
   "attachments": {},
   "cell_type": "markdown",
   "metadata": {},
   "source": [
    "3) Para los valores enteros del 1 al 20, imprimir por pantalla si es par o impar"
   ]
  },
  {
   "cell_type": "code",
   "execution_count": 8,
   "metadata": {},
   "outputs": [
    {
     "name": "stdout",
     "output_type": "stream",
     "text": [
      "1: impar\n",
      "2: par\n",
      "3: impar\n",
      "4: par\n",
      "5: impar\n",
      "6: par\n",
      "7: impar\n",
      "8: par\n",
      "9: impar\n",
      "10: par\n",
      "11: impar\n",
      "12: par\n",
      "13: impar\n",
      "14: par\n",
      "15: impar\n",
      "16: par\n",
      "17: impar\n",
      "18: par\n",
      "19: impar\n",
      "20: par\n"
     ]
    }
   ],
   "source": [
    "num=1\n",
    "while num<=20:\n",
    "    res=num%2\n",
    "    if res==0:\n",
    "        print(f\"{num}: par\")\n",
    "    else:\n",
    "        print(f'{num}: impar')\n",
    "    num+=1"
   ]
  },
  {
   "attachments": {},
   "cell_type": "markdown",
   "metadata": {},
   "source": [
    "4) En un ciclo for mostrar para los valores entre 0 y 5 el resultado de elevarlo a la potencia igual a 3"
   ]
  },
  {
   "cell_type": "code",
   "execution_count": 10,
   "metadata": {},
   "outputs": [
    {
     "name": "stdout",
     "output_type": "stream",
     "text": [
      "0 elevado a la 3 = 0\n",
      "1 elevado a la 3 = 1\n",
      "2 elevado a la 3 = 8\n",
      "3 elevado a la 3 = 27\n",
      "4 elevado a la 3 = 64\n"
     ]
    }
   ],
   "source": [
    "for number in range(0,5):\n",
    "    print(number, \"elevado a la 3 =\", number**3)\n"
   ]
  },
  {
   "attachments": {},
   "cell_type": "markdown",
   "metadata": {},
   "source": [
    "5) Crear una variable que contenga un número entero y realizar un ciclo for la misma cantidad de ciclos"
   ]
  },
  {
   "cell_type": "code",
   "execution_count": null,
   "metadata": {},
   "outputs": [],
   "source": []
  },
  {
   "attachments": {},
   "cell_type": "markdown",
   "metadata": {},
   "source": [
    "6) Utilizar un ciclo while para realizar el factorial de un número guardado en una variable, sólo si la variable contiene un número entero mayor a 0"
   ]
  },
  {
   "cell_type": "code",
   "execution_count": 6,
   "metadata": {},
   "outputs": [
    {
     "name": "stdout",
     "output_type": "stream",
     "text": [
      "24\n"
     ]
    }
   ],
   "source": [
    "i=4\n",
    "fac=1\n",
    "num=1\n",
    "while fac<=i:\n",
    "    num*=fac\n",
    "    fac+=1\n",
    "\n",
    "print(num)\n"
   ]
  },
  {
   "attachments": {},
   "cell_type": "markdown",
   "metadata": {},
   "source": [
    "7) Crear un ciclo for dentro de un ciclo while"
   ]
  },
  {
   "cell_type": "code",
   "execution_count": 16,
   "metadata": {},
   "outputs": [
    {
     "name": "stdout",
     "output_type": "stream",
     "text": [
      "\n",
      "*\n",
      "**\n",
      "***\n",
      "****\n",
      "*\n",
      "**\n",
      "***\n"
     ]
    }
   ],
   "source": [
    "i=0\n",
    "num=5\n",
    "while i<2:\n",
    "    for num in range(i,num):\n",
    "        print(\"*\"*num) \n",
    "    i+=1"
   ]
  },
  {
   "attachments": {},
   "cell_type": "markdown",
   "metadata": {},
   "source": [
    "8) Crear un ciclo while dentro de un ciclo for"
   ]
  },
  {
   "cell_type": "code",
   "execution_count": 23,
   "metadata": {},
   "outputs": [
    {
     "name": "stdout",
     "output_type": "stream",
     "text": [
      "***************\n",
      "0 circuito\n",
      "0 vuelta\n",
      "1 vuelta\n",
      "2 vuelta\n",
      "3 vuelta\n",
      "4 vuelta\n",
      "5 vuelta\n",
      "***************\n",
      "1 circuito\n",
      "0 vuelta\n",
      "1 vuelta\n",
      "2 vuelta\n",
      "3 vuelta\n",
      "4 vuelta\n",
      "5 vuelta\n",
      "***************\n",
      "2 circuito\n",
      "0 vuelta\n",
      "1 vuelta\n",
      "2 vuelta\n",
      "3 vuelta\n",
      "4 vuelta\n",
      "5 vuelta\n",
      "***************\n",
      "3 circuito\n",
      "0 vuelta\n",
      "1 vuelta\n",
      "2 vuelta\n",
      "3 vuelta\n",
      "4 vuelta\n",
      "5 vuelta\n",
      "***************\n",
      "4 circuito\n",
      "0 vuelta\n",
      "1 vuelta\n",
      "2 vuelta\n",
      "3 vuelta\n",
      "4 vuelta\n",
      "5 vuelta\n",
      "***************\n",
      "5 circuito\n",
      "0 vuelta\n",
      "1 vuelta\n",
      "2 vuelta\n",
      "3 vuelta\n",
      "4 vuelta\n",
      "5 vuelta\n"
     ]
    }
   ],
   "source": [
    "i=0\n",
    "num=6\n",
    "for number in range(i,num):\n",
    "    forNum=0\n",
    "    print(\"*\"*15)\n",
    "    print(number, \"circuito\")\n",
    "    while forNum<num:\n",
    "        print(forNum, \"vuelta\")\n",
    "        forNum+=1\n",
    "    i+=1\n",
    "    \n",
    "    "
   ]
  },
  {
   "attachments": {},
   "cell_type": "markdown",
   "metadata": {},
   "source": [
    "9) Imprimir los números primos existentes entre 0 y 30"
   ]
  },
  {
   "cell_type": "code",
   "execution_count": 22,
   "metadata": {},
   "outputs": [
    {
     "name": "stdout",
     "output_type": "stream",
     "text": [
      "1\n",
      "2\n",
      "3\n",
      "5\n",
      "7\n",
      "11\n",
      "13\n",
      "17\n",
      "19\n",
      "23\n",
      "29\n",
      "Ciclos: 465\n"
     ]
    }
   ],
   "source": [
    "i=1\n",
    "b=i\n",
    "ciclos_sin_break=0\n",
    "while b<31:\n",
    "    x=0\n",
    "    \n",
    "    for num in range(i,b+1):\n",
    "        ciclos_sin_break+=1\n",
    "        res=b%num\n",
    "        if(res==0): x+=1\n",
    "    if(x<=2): print(b)\n",
    "    b+=1\n",
    "\n",
    "print(\"Ciclos:\", str(ciclos_sin_break))"
   ]
  },
  {
   "cell_type": "markdown",
   "metadata": {},
   "source": []
  },
  {
   "cell_type": "code",
   "execution_count": 54,
   "metadata": {},
   "outputs": [
    {
     "name": "stdout",
     "output_type": "stream",
     "text": [
      "2 0\n",
      "3 0\n",
      "3 0\n",
      "4 0\n",
      "4 0\n",
      "4 0\n",
      "5 0\n",
      "5 0\n",
      "5 0\n",
      "5 0\n",
      "6 0\n",
      "6 0\n",
      "6 0\n",
      "6 0\n",
      "6 0\n",
      "7 0\n",
      "7 0\n",
      "7 0\n",
      "7 0\n",
      "7 0\n",
      "7 0\n",
      "8 0\n",
      "8 0\n",
      "8 0\n",
      "8 0\n",
      "8 0\n",
      "8 0\n",
      "8 0\n",
      "9 0\n",
      "9 0\n",
      "9 0\n",
      "9 0\n",
      "9 0\n",
      "9 0\n",
      "9 0\n",
      "9 0\n",
      "10 0\n",
      "10 0\n",
      "10 0\n",
      "10 0\n",
      "10 0\n",
      "10 0\n",
      "10 0\n",
      "10 0\n",
      "10 0\n",
      "11 0\n",
      "11 0\n",
      "11 0\n",
      "11 0\n",
      "11 0\n",
      "11 0\n",
      "11 0\n",
      "11 0\n",
      "11 0\n",
      "11 0\n",
      "12 0\n",
      "12 0\n",
      "12 0\n",
      "12 0\n",
      "12 0\n",
      "12 0\n",
      "12 0\n",
      "12 0\n",
      "12 0\n",
      "12 0\n",
      "12 0\n",
      "13 0\n",
      "13 0\n",
      "13 0\n",
      "13 0\n",
      "13 0\n",
      "13 0\n",
      "13 0\n",
      "13 0\n",
      "13 0\n",
      "13 0\n",
      "13 0\n",
      "13 0\n",
      "14 0\n",
      "14 0\n",
      "14 0\n",
      "14 0\n",
      "14 0\n",
      "14 0\n",
      "14 0\n",
      "14 0\n",
      "14 0\n",
      "14 0\n",
      "14 0\n",
      "14 0\n",
      "14 0\n",
      "15 0\n",
      "15 0\n",
      "15 0\n",
      "15 0\n",
      "15 0\n",
      "15 0\n",
      "15 0\n",
      "15 0\n",
      "15 0\n",
      "15 0\n",
      "15 0\n",
      "15 0\n",
      "15 0\n",
      "15 0\n",
      "16 0\n",
      "16 0\n",
      "16 0\n",
      "16 0\n",
      "16 0\n",
      "16 0\n",
      "16 0\n",
      "16 0\n",
      "16 0\n",
      "16 0\n",
      "16 0\n",
      "16 0\n",
      "16 0\n",
      "16 0\n",
      "16 0\n",
      "17 0\n",
      "17 0\n",
      "17 0\n",
      "17 0\n",
      "17 0\n",
      "17 0\n",
      "17 0\n",
      "17 0\n",
      "17 0\n",
      "17 0\n",
      "17 0\n",
      "17 0\n",
      "17 0\n",
      "17 0\n",
      "17 0\n",
      "17 0\n",
      "18 0\n",
      "18 0\n",
      "18 0\n",
      "18 0\n",
      "18 0\n",
      "18 0\n",
      "18 0\n",
      "18 0\n",
      "18 0\n",
      "18 0\n",
      "18 0\n",
      "18 0\n",
      "18 0\n",
      "18 0\n",
      "18 0\n",
      "18 0\n",
      "18 0\n",
      "19 0\n",
      "19 0\n",
      "19 0\n",
      "19 0\n",
      "19 0\n",
      "19 0\n",
      "19 0\n",
      "19 0\n",
      "19 0\n",
      "19 0\n",
      "19 0\n",
      "19 0\n",
      "19 0\n",
      "19 0\n",
      "19 0\n",
      "19 0\n",
      "19 0\n",
      "19 0\n",
      "20 0\n",
      "20 0\n",
      "20 0\n",
      "20 0\n",
      "20 0\n",
      "20 0\n",
      "20 0\n",
      "20 0\n",
      "20 0\n",
      "20 0\n",
      "20 0\n",
      "20 0\n",
      "20 0\n",
      "20 0\n",
      "20 0\n",
      "20 0\n",
      "20 0\n",
      "20 0\n",
      "20 0\n",
      "21 0\n",
      "21 0\n",
      "21 0\n",
      "21 0\n",
      "21 0\n",
      "21 0\n",
      "21 0\n",
      "21 0\n",
      "21 0\n",
      "21 0\n",
      "21 0\n",
      "21 0\n",
      "21 0\n",
      "21 0\n",
      "21 0\n",
      "21 0\n",
      "21 0\n",
      "21 0\n",
      "21 0\n",
      "21 0\n",
      "22 0\n",
      "22 0\n",
      "22 0\n",
      "22 0\n",
      "22 0\n",
      "22 0\n",
      "22 0\n",
      "22 0\n",
      "22 0\n",
      "22 0\n",
      "22 0\n",
      "22 0\n",
      "22 0\n",
      "22 0\n",
      "22 0\n",
      "22 0\n",
      "22 0\n",
      "22 0\n",
      "22 0\n",
      "22 0\n",
      "22 0\n",
      "23 0\n",
      "23 0\n",
      "23 0\n",
      "23 0\n",
      "23 0\n",
      "23 0\n",
      "23 0\n",
      "23 0\n",
      "23 0\n",
      "23 0\n",
      "23 0\n",
      "23 0\n",
      "23 0\n",
      "23 0\n",
      "23 0\n",
      "23 0\n",
      "23 0\n",
      "23 0\n",
      "23 0\n",
      "23 0\n",
      "23 0\n",
      "23 0\n",
      "24 0\n",
      "24 0\n",
      "24 0\n",
      "24 0\n",
      "24 0\n",
      "24 0\n",
      "24 0\n",
      "24 0\n",
      "24 0\n",
      "24 0\n",
      "24 0\n",
      "24 0\n",
      "24 0\n",
      "24 0\n",
      "24 0\n",
      "24 0\n",
      "24 0\n",
      "24 0\n",
      "24 0\n",
      "24 0\n",
      "24 0\n",
      "24 0\n",
      "24 0\n",
      "25 0\n",
      "25 0\n",
      "25 0\n",
      "25 0\n",
      "25 0\n",
      "25 0\n",
      "25 0\n",
      "25 0\n",
      "25 0\n",
      "25 0\n",
      "25 0\n",
      "25 0\n",
      "25 0\n",
      "25 0\n",
      "25 0\n",
      "25 0\n",
      "25 0\n",
      "25 0\n",
      "25 0\n",
      "25 0\n",
      "25 0\n",
      "25 0\n",
      "25 0\n",
      "25 0\n",
      "26 0\n",
      "26 0\n",
      "26 0\n",
      "26 0\n",
      "26 0\n",
      "26 0\n",
      "26 0\n",
      "26 0\n",
      "26 0\n",
      "26 0\n",
      "26 0\n",
      "26 0\n",
      "26 0\n",
      "26 0\n",
      "26 0\n",
      "26 0\n",
      "26 0\n",
      "26 0\n",
      "26 0\n",
      "26 0\n",
      "26 0\n",
      "26 0\n",
      "26 0\n",
      "26 0\n",
      "26 0\n",
      "27 0\n",
      "27 0\n",
      "27 0\n",
      "27 0\n",
      "27 0\n",
      "27 0\n",
      "27 0\n",
      "27 0\n",
      "27 0\n",
      "27 0\n",
      "27 0\n",
      "27 0\n",
      "27 0\n",
      "27 0\n",
      "27 0\n",
      "27 0\n",
      "27 0\n",
      "27 0\n",
      "27 0\n",
      "27 0\n",
      "27 0\n",
      "27 0\n",
      "27 0\n",
      "27 0\n",
      "27 0\n",
      "27 0\n",
      "28 0\n",
      "28 0\n",
      "28 0\n",
      "28 0\n",
      "28 0\n",
      "28 0\n",
      "28 0\n",
      "28 0\n",
      "28 0\n",
      "28 0\n",
      "28 0\n",
      "28 0\n",
      "28 0\n",
      "28 0\n",
      "28 0\n",
      "28 0\n",
      "28 0\n",
      "28 0\n",
      "28 0\n",
      "28 0\n",
      "28 0\n",
      "28 0\n",
      "28 0\n",
      "28 0\n",
      "28 0\n",
      "28 0\n",
      "28 0\n",
      "29 0\n",
      "29 0\n",
      "29 0\n",
      "29 0\n",
      "29 0\n",
      "29 0\n",
      "29 0\n",
      "29 0\n",
      "29 0\n",
      "29 0\n",
      "29 0\n",
      "29 0\n",
      "29 0\n",
      "29 0\n",
      "29 0\n",
      "29 0\n",
      "29 0\n",
      "29 0\n",
      "29 0\n",
      "29 0\n",
      "29 0\n",
      "29 0\n",
      "29 0\n",
      "29 0\n",
      "29 0\n",
      "29 0\n",
      "29 0\n",
      "29 0\n",
      "30 0\n",
      "30 0\n",
      "30 0\n",
      "30 0\n",
      "30 0\n",
      "30 0\n",
      "30 0\n",
      "30 0\n",
      "30 0\n",
      "30 0\n",
      "30 0\n",
      "30 0\n",
      "30 0\n",
      "30 0\n",
      "30 0\n",
      "30 0\n",
      "30 0\n",
      "30 0\n",
      "30 0\n",
      "30 0\n",
      "30 0\n",
      "30 0\n",
      "30 0\n",
      "30 0\n",
      "30 0\n",
      "30 0\n",
      "30 0\n",
      "30 0\n",
      "30 0\n"
     ]
    }
   ],
   "source": [
    "while()\n",
    "\n"
   ]
  },
  {
   "attachments": {},
   "cell_type": "markdown",
   "metadata": {},
   "source": [
    "10) ¿Se puede mejorar el proceso del punto 9? Utilizar las sentencias break y/ó continue para tal fin"
   ]
  },
  {
   "cell_type": "code",
   "execution_count": 32,
   "metadata": {},
   "outputs": [
    {
     "name": "stdout",
     "output_type": "stream",
     "text": [
      "1\n",
      "2\n",
      "3\n",
      "5\n",
      "7\n",
      "11\n",
      "13\n",
      "17\n",
      "19\n",
      "23\n",
      "29\n",
      "Ciclos: 134\n"
     ]
    }
   ],
   "source": [
    "i=1\n",
    "b=i\n",
    "ciclos_break=0\n",
    "while b<30:\n",
    "    primo=True\n",
    "    for num in range(2,b):\n",
    "        ciclos_break+=1\n",
    "        # print(b, num)\n",
    "        if(b%num==0): \n",
    "            primo=False\n",
    "            break\n",
    "    if(primo): \n",
    "        print(b)\n",
    "    b+=1\n",
    "print(\"Ciclos:\",ciclos_break)"
   ]
  },
  {
   "attachments": {},
   "cell_type": "markdown",
   "metadata": {},
   "source": [
    "11) En los puntos 9 y 10, se diseño un código que encuentra números primos y además se lo optimizó. ¿Es posible saber en qué medida se optimizó?"
   ]
  },
  {
   "cell_type": "code",
   "execution_count": null,
   "metadata": {},
   "outputs": [],
   "source": []
  },
  {
   "attachments": {},
   "cell_type": "markdown",
   "metadata": {},
   "source": [
    "12) Aplicando continue, armar un ciclo while que solo imprima los valores divisibles por 12, dentro del rango de números de 100 a 300"
   ]
  },
  {
   "cell_type": "code",
   "execution_count": 61,
   "metadata": {},
   "outputs": [
    {
     "name": "stdout",
     "output_type": "stream",
     "text": [
      "108\n",
      "120\n",
      "132\n",
      "144\n",
      "156\n",
      "168\n",
      "180\n",
      "192\n",
      "204\n",
      "216\n",
      "228\n",
      "240\n",
      "252\n",
      "264\n",
      "276\n",
      "288\n",
      "300\n"
     ]
    }
   ],
   "source": [
    "i=100\n",
    "tope=300\n",
    "while i<=tope:\n",
    "    i+=1\n",
    "    if(i%12!=0):\n",
    "        continue\n",
    "    print(i)\n",
    "   \n",
    "        "
   ]
  },
  {
   "attachments": {},
   "cell_type": "markdown",
   "metadata": {},
   "source": [
    "13) Utilizar la función **input()** que permite hacer ingresos por teclado, para encontrar números primos y dar la opción al usario de buscar el siguiente"
   ]
  },
  {
   "cell_type": "code",
   "execution_count": 3,
   "metadata": {},
   "outputs": [
    {
     "name": "stdout",
     "output_type": "stream",
     "text": [
      "15 no es primo\n"
     ]
    }
   ],
   "source": [
    "primo=True\n",
    "n=int(input(\"Escribe un numero: \"))\n",
    "\n",
    "if(type(n)!=int or n<0):\n",
    "    print(\"Debes elegir un numero entero mayor o igual 0\")\n",
    "else:\n",
    "    for num in range(2,n):\n",
    "        if(n%num==0):\n",
    "            primo=False\n",
    "            print(f\"{n} no es primo\")\n",
    "            break\n",
    "\n",
    "    if(primo):\n",
    "        print(f\"{n} es primo\")\n"
   ]
  },
  {
   "attachments": {},
   "cell_type": "markdown",
   "metadata": {},
   "source": [
    "14) Crear un ciclo while que encuentre dentro del rango de 100 a 300 el primer número divisible por 3 y además múltiplo de 6"
   ]
  },
  {
   "cell_type": "code",
   "execution_count": 71,
   "metadata": {},
   "outputs": [
    {
     "name": "stdout",
     "output_type": "stream",
     "text": [
      "102\n"
     ]
    }
   ],
   "source": [
    "for num in range (100,300):\n",
    "    if(num%3==0 and num%6==0):\n",
    "        print(num)\n",
    "        break"
   ]
  }
 ],
 "metadata": {
  "interpreter": {
   "hash": "c85384e4cb51c8b72350f3a8712cc8351fdc3955e32a27f9b60c6242ab125f01"
  },
  "kernelspec": {
   "display_name": "Python 3 (ipykernel)",
   "language": "python",
   "name": "python3"
  },
  "language_info": {
   "codemirror_mode": {
    "name": "ipython",
    "version": 3
   },
   "file_extension": ".py",
   "mimetype": "text/x-python",
   "name": "python",
   "nbconvert_exporter": "python",
   "pygments_lexer": "ipython3",
   "version": "3.10.4"
  }
 },
 "nbformat": 4,
 "nbformat_minor": 4
}
