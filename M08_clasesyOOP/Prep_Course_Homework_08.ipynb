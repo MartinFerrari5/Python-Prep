{
 "cells": [
  {
   "attachments": {},
   "cell_type": "markdown",
   "metadata": {},
   "source": [
    "## Clases y Programación Orientada a Objetos"
   ]
  },
  {
   "attachments": {},
   "cell_type": "markdown",
   "metadata": {},
   "source": [
    "1) Crear la clase vehículo que contenga los atributos:<br>\n",
    "Color<br>\n",
    "Si es moto, auto, camioneta ó camión<br>\n",
    "Cilindrada del motor"
   ]
  },
  {
   "cell_type": "code",
   "execution_count": 15,
   "metadata": {},
   "outputs": [],
   "source": [
    "class Vehiculo:\n",
    "    def __init__(self,color,tipo,cilindrada):\n",
    "        self.color=color\n",
    "        self.tipo=tipo\n",
    "        self.cilindrada=cilindrada"
   ]
  },
  {
   "attachments": {},
   "cell_type": "markdown",
   "metadata": {},
   "source": [
    "2) A la clase Vehiculo creada en el punto 1, agregar los siguientes métodos:<br>\n",
    "Acelerar<br>\n",
    "Frenar<br>\n",
    "Doblar<br>"
   ]
  },
  {
   "cell_type": "code",
   "execution_count": 37,
   "metadata": {},
   "outputs": [],
   "source": [
    "class Vehiculo:\n",
    "    def __init__(self,color,tipo,cilindrada):\n",
    "        self.color=color\n",
    "        self.tipo=tipo\n",
    "        self.cilindrada=cilindrada\n",
    "        self.velocidad = 0\n",
    "        self.freno = 0\n",
    "        self.grados =0\n",
    "    def acelerar(self, vel):\n",
    "        self.velocidad=vel\n",
    "        return print(\"Acelaracion:\" ,vel,\"km\")\n",
    "    def frenar(self,freno):\n",
    "        self.freno=freno\n",
    "        return print(\"Frena:\" ,freno,\"en segundos\")\n",
    "    def doblar(self,grados):\n",
    "        self.grados = grados\n",
    "        return print(\"Dobla a:\" , grados, \"grados\")\n",
    "    def rapidez(self):\n",
    "     \n",
    "        return print(\"velocidad: \", self.velocidad)\n",
    "        "
   ]
  },
  {
   "attachments": {},
   "cell_type": "markdown",
   "metadata": {},
   "source": [
    "3) Instanciar 3 objetos de la clase vehículo y ejecutar sus métodos, probar luego el resultado"
   ]
  },
  {
   "cell_type": "code",
   "execution_count": 38,
   "metadata": {},
   "outputs": [
    {
     "name": "stdout",
     "output_type": "stream",
     "text": [
      "Acelaracion: 20 km\n",
      "Frena: 25 en segundos\n",
      "Dobla a: 10 grados\n",
      "velocidad:  20\n"
     ]
    }
   ],
   "source": [
    "auto=Vehiculo(\"azul\", \"auto\",\"300cc\")\n",
    "moto=Vehiculo(\"rojo\", \"moto\",\"300cc\")\n",
    "triciclo=Vehiculo(\"gris\", \"triciclo\",\"300cc\")\n",
    "\n",
    "auto.acelerar(20)\n",
    "auto.frenar(25)\n",
    "auto.doblar(10)\n",
    "auto.rapidez()"
   ]
  },
  {
   "attachments": {},
   "cell_type": "markdown",
   "metadata": {},
   "source": [
    "4) Agregar a la clase Vehiculo, un método que muestre su estado, es decir, a que velocidad se encuentra y su dirección. Y otro método que muestre color, tipo y cilindrada"
   ]
  },
  {
   "cell_type": "code",
   "execution_count": 5,
   "metadata": {},
   "outputs": [
    {
     "name": "stdout",
     "output_type": "stream",
     "text": [
      "Acelaracion: 50 km\n",
      "Dobla a: 30 grados\n",
      "El coche va a una velocidad de 50km/h y puede girar 30 grados\n",
      "Tu auto es de color dorado con llamas y tiene una cilindrada de 500cc\n"
     ]
    }
   ],
   "source": [
    "class Vehiculo:\n",
    "    def __init__(self,color,tipo,cilindrada):\n",
    "        self.color=color\n",
    "        self.tipo=tipo\n",
    "        self.cilindrada=cilindrada\n",
    "        self.velocidad=0\n",
    "        self.grados=0\n",
    "    def acelerar(self, vel=0):\n",
    "        self.velocidad=vel\n",
    "        return print(\"Acelaracion:\" ,vel,\"km\")\n",
    "    def frenar(self,freno=0):\n",
    "        self.freno=freno\n",
    "        return print(\"Frena:\" ,freno,\"en segundos\")\n",
    "    def doblar(self,grados=0):\n",
    "        self.grados = grados\n",
    "        return print(\"Dobla a:\" , grados, \"grados\")\n",
    "    def estado(self):\n",
    "        return print(f\"El coche va a una velocidad de {self.velocidad}km/h y puede girar {self.grados} grados\")\n",
    "    def estilo(self):\n",
    "        return print(f\"Tu {self.tipo} es de color {self.color} y tiene una cilindrada de {self.cilindrada}cc\")\n",
    "\n",
    "a1= Vehiculo(\"dorado con llamas\", \"auto\", 500)\n",
    "a1.acelerar(50)\n",
    "a1.doblar(30)\n",
    "a1.estado()\n",
    "a1.estilo()\n",
    "     \n",
    "        "
   ]
  },
  {
   "attachments": {},
   "cell_type": "markdown",
   "metadata": {},
   "source": [
    "5) Crear una clase que permita utilizar las funciones creadas en la práctica del módulo 7<br>\n",
    "Verificar Primo<br>\n",
    "Valor modal<br>\n",
    "Conversión grados<br>\n",
    "Factorial<br>"
   ]
  },
  {
   "cell_type": "code",
   "execution_count": 31,
   "metadata": {},
   "outputs": [
    {
     "name": "stdout",
     "output_type": "stream",
     "text": [
      "True\n"
     ]
    }
   ],
   "source": [
    "\n",
    "class Verify:\n",
    "    # def __init__(self):\n",
    "    #     pass\n",
    "    \n",
    "    def prim (self,val1):\n",
    "        primo=True\n",
    "        for i in range(2,val1):\n",
    "            if val1%i==0:\n",
    "                primo=False\n",
    "                return print(primo)\n",
    "        return  print(primo)\n",
    "    def contar (self,valores):\n",
    "        lista_num=[]\n",
    "        lista_repetidos=[]\n",
    "        for i in valores:\n",
    "            if i in lista_num:\n",
    "                indice = lista_num.index(i)\n",
    "                lista_repetidos[indice]+=1\n",
    "            else:\n",
    "                lista_num.append(i)\n",
    "                lista_repetidos.append(1)\n",
    "        res = 0\n",
    "        b=0\n",
    "        for i in lista_repetidos:\n",
    "            if(i>b):\n",
    "                indice = lista_repetidos.index(i)\n",
    "                numero= lista_num[indice]\n",
    "            \n",
    "                res = \"El numero que más se repite es\",numero,\"un total de\",i,\"veces\"\n",
    "                b=i\n",
    "            elif(i==b):\n",
    "                indice = lista_repetidos.index(i)\n",
    "                indice2 = lista_repetidos.index(i,indice+1)\n",
    "                numero= lista_num[indice]\n",
    "                numero2= lista_num[indice2]\n",
    "                res=\"Los numeros que más se repiten son\", numero, \"y\",numero2,\"un total de\",i,\"veces\"\n",
    "                b=i\n",
    "            \n",
    "        return res\n",
    "    def temp(self,valor, input, output):\n",
    "        if(input==\"c\"):\n",
    "            if(output==\"f\"):\n",
    "                res= valor * (9/5) + 32\n",
    "            else: \n",
    "                res= valor + 273.15\n",
    "        elif(input==\"f\"):\n",
    "            if(output==\"c\"):\n",
    "                res= (valor-32)/(9/5) \n",
    "            else: \n",
    "                res = (valor-32)/(9/5) + 273.15\n",
    "        else:\n",
    "            if(input==\"c\"):\n",
    "                res = valor - 273.15\n",
    "            else:\n",
    "                res= (valor - 273.15)  * (9/5) + 32\n",
    "        return res\n",
    "    \n",
    "def fact (val):\n",
    "    if(type(val)!=int or val<0):\n",
    "         return None\n",
    "    if(val>1):\n",
    "\n",
    "        val=val * fact(val-1)\n",
    "    return val\n",
    "num=Verify()\n",
    "num.prim(5)"
   ]
  },
  {
   "attachments": {},
   "cell_type": "markdown",
   "metadata": {},
   "source": [
    "6) Probar las funciones incorporadas en la clase del punto 5"
   ]
  },
  {
   "cell_type": "code",
   "execution_count": 46,
   "metadata": {},
   "outputs": [
    {
     "name": "stdout",
     "output_type": "stream",
     "text": [
      "True\n"
     ]
    },
    {
     "data": {
      "text/plain": [
       "('El numero que más se repite es', 2, 'un total de', 2, 'veces')"
      ]
     },
     "execution_count": 46,
     "metadata": {},
     "output_type": "execute_result"
    }
   ],
   "source": [
    "valor=[1,2,2,5,4,6,3]\n",
    "prueba = Verify()\n",
    "prueba.prim(7)\n",
    "prueba.contar(valor)"
   ]
  },
  {
   "attachments": {},
   "cell_type": "markdown",
   "metadata": {},
   "source": [
    "7) Es necesario que la clase creada en el punto 5 contenga una lista, sobre la cual se apliquen las funciones incorporadas"
   ]
  },
  {
   "cell_type": "code",
   "execution_count": null,
   "metadata": {},
   "outputs": [],
   "source": []
  },
  {
   "attachments": {},
   "cell_type": "markdown",
   "metadata": {},
   "source": [
    "8) Crear un archivo .py aparte y ubicar allí la clase generada en el punto anterior. Luego realizar la importación del módulo y probar alguna de sus funciones"
   ]
  },
  {
   "cell_type": "code",
   "execution_count": 91,
   "metadata": {},
   "outputs": [
    {
     "ename": "ImportError",
     "evalue": "cannot import name 'Ver' from 'clase' (d:\\Escritorio\\Python\\Clone\\Python-Prep\\M08_clasesyOOP\\clase.py)",
     "output_type": "error",
     "traceback": [
      "\u001b[1;31m---------------------------------------------------------------------------\u001b[0m",
      "\u001b[1;31mImportError\u001b[0m                               Traceback (most recent call last)",
      "Cell \u001b[1;32mIn[91], line 1\u001b[0m\n\u001b[1;32m----> 1\u001b[0m \u001b[38;5;28;01mfrom\u001b[39;00m \u001b[38;5;21;01mclase\u001b[39;00m \u001b[38;5;28;01mimport\u001b[39;00m Ver\n\u001b[0;32m      2\u001b[0m a\u001b[38;5;241m=\u001b[39mVer([\u001b[38;5;241m1\u001b[39m,\u001b[38;5;241m2\u001b[39m,\u001b[38;5;241m3\u001b[39m,\u001b[38;5;241m4\u001b[39m,\u001b[38;5;241m5\u001b[39m,\u001b[38;5;241m4\u001b[39m])\n\u001b[0;32m      3\u001b[0m a\u001b[38;5;241m.\u001b[39mprim(\u001b[38;5;241m8\u001b[39m)\n",
      "\u001b[1;31mImportError\u001b[0m: cannot import name 'Ver' from 'clase' (d:\\Escritorio\\Python\\Clone\\Python-Prep\\M08_clasesyOOP\\clase.py)"
     ]
    }
   ],
   "source": [
    "from clase import Ver\n",
    "a=Ver([1,2,3,4,5,4])\n",
    "a.prim(8)\n",
    "\n"
   ]
  }
 ],
 "metadata": {
  "interpreter": {
   "hash": "c85384e4cb51c8b72350f3a8712cc8351fdc3955e32a27f9b60c6242ab125f01"
  },
  "kernelspec": {
   "display_name": "Python 3 (ipykernel)",
   "language": "python",
   "name": "python3"
  },
  "language_info": {
   "codemirror_mode": {
    "name": "ipython",
    "version": 3
   },
   "file_extension": ".py",
   "mimetype": "text/x-python",
   "name": "python",
   "nbconvert_exporter": "python",
   "pygments_lexer": "ipython3",
   "version": "3.10.4"
  }
 },
 "nbformat": 4,
 "nbformat_minor": 4
}
